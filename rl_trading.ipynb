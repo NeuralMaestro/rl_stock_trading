{
  "nbformat": 4,
  "nbformat_minor": 0,
  "metadata": {
    "colab": {
      "provenance": [],
      "collapsed_sections": [
        "ZLZe-bWCJaWN"
      ]
    },
    "kernelspec": {
      "name": "python3",
      "display_name": "Python 3"
    },
    "language_info": {
      "name": "python"
    }
  },
  "cells": [
    {
      "cell_type": "markdown",
      "source": [
        "# Stock trading with reinforement learning\n",
        "This notebook demonstrates the use of reinforcement learning for developing a stock trading strategy. It leverages the FinRL library and Stable Baselines3 for training and evaluating a PPO agent.\n",
        "\n",
        "The notebook is structured as follows:\n",
        "\n",
        "1. **Data Acquisition and Preprocessing**: Fetches historical stock data using yfinance, calculates technical indicators, and prepares the data for the trading environment.\n",
        "2. **Trading Environment**: Defines a custom gym environment (StockTradingEnv) that simulates stock trading with discrete actions (buy, hold, sell).\n",
        "3. **Model Training**: Trains a PPO agent on the prepared data within the trading environment.\n",
        "4. **Trading and Backtesting**: Evaluates the trained agent's performance by simulating trades on a separate dataset and visualizes the results with a trading chart."
      ],
      "metadata": {
        "id": "CJ9n6PLVmXj9"
      }
    },
    {
      "cell_type": "markdown",
      "source": [
        "#installation and imports"
      ],
      "metadata": {
        "id": "q4LIdqhNDE7-"
      }
    },
    {
      "cell_type": "code",
      "execution_count": null,
      "metadata": {
        "id": "z15RfhJnsz-X"
      },
      "outputs": [],
      "source": [
        "# install all necessary packages\n",
        "!pip install git+https://github.com/AI4Finance-LLC/FinRL-Library.git"
      ]
    },
    {
      "cell_type": "code",
      "source": [
        "# import all necessary packages\n",
        "import pandas as pd\n",
        "import yfinance as yf\n",
        "from stockstats import StockDataFrame as sdf\n",
        "from datetime import datetime, timedelta\n",
        "import gym\n",
        "import matplotlib.pyplot as plt\n",
        "import numpy as np\n",
        "from finrl.drl_agents.stablebaselines3.models import DRLAgent\n",
        "from stable_baselines3.common.vec_env import DummyVecEnv"
      ],
      "metadata": {
        "id": "zI-FcFcWs7Jl"
      },
      "execution_count": null,
      "outputs": []
    },
    {
      "cell_type": "markdown",
      "source": [
        "#defined functions"
      ],
      "metadata": {
        "id": "GWTuw3IHDKL6"
      }
    },
    {
      "cell_type": "code",
      "source": [
        "def fetch_data(period, interval, tic):\n",
        "    # download and save the data in a pandas dataframe\n",
        "    data_df = yf.download(tic, period=period, interval=interval)\n",
        "    data_df = data_df.reset_index()\n",
        "    data_df[\"tic\"] = tic\n",
        "    # convert to standardized names\n",
        "    data_df.columns = [\n",
        "        \"date\",\n",
        "        \"open\",\n",
        "        \"high\",\n",
        "        \"low\",\n",
        "        \"close\",\n",
        "        \"adjcp\",\n",
        "        \"volume\",\n",
        "        \"tic\"\n",
        "    ]\n",
        "    data_df[\"close\"] = data_df[\"adjcp\"]\n",
        "    data_df = data_df.drop(\"adjcp\", 1)\n",
        "    # convert date to standard string format\n",
        "    data_df[\"date\"] = data_df.date.apply(lambda x: x.strftime(\"%Y-%m-%d %H:%M:%S\"))\n",
        "    # drop missing data\n",
        "    data_df = data_df.dropna()\n",
        "    data_df = data_df.reset_index(drop=True)\n",
        "    print(\"shape\", data_df.shape)\n",
        "    data_df = data_df.sort_values(by=['date']).reset_index(drop=True)\n",
        "\n",
        "    return data_df\n"
      ],
      "metadata": {
        "id": "aQMi1Yl35ULM"
      },
      "execution_count": null,
      "outputs": []
    },
    {
      "cell_type": "code",
      "source": [
        "def add_technical_indicators(data, tech_indicator_list):\n",
        "        # calculate technical indicators using stockstats package\n",
        "        df = data.copy()\n",
        "        df = df.sort_values(by=[\"date\"])\n",
        "        stock = sdf.retype(df.copy())\n",
        "\n",
        "        for indicator in tech_indicator_list:\n",
        "            indicator_df = pd.DataFrame()\n",
        "            temp_indicator = stock[indicator]\n",
        "            temp_indicator = pd.DataFrame(temp_indicator)\n",
        "            temp_indicator[\"date\"] = df[\"date\"].to_list()\n",
        "            indicator_df = indicator_df.append(\n",
        "                temp_indicator, ignore_index=True\n",
        "            )\n",
        "            df = df.merge(\n",
        "                indicator_df[[\"date\", indicator]], on=[\"date\"], how=\"left\"\n",
        "            )\n",
        "        df = df.sort_values(by=[\"date\"])\n",
        "        return df"
      ],
      "metadata": {
        "id": "Mqk5x4mbC3Q5"
      },
      "execution_count": null,
      "outputs": []
    },
    {
      "cell_type": "code",
      "source": [
        "def add_changes(data, len):\n",
        "    # add percentage changes\n",
        "    df = data.copy()\n",
        "    for i in range(1,len+1):\n",
        "        df[f\"change_{i}\"] = df.close.pct_change(i)+1\n",
        "    return df"
      ],
      "metadata": {
        "id": "rBEKel8CC9wx"
      },
      "execution_count": null,
      "outputs": []
    },
    {
      "cell_type": "code",
      "source": [
        "def generate_trade_chart(data, ticks=24*12, name=\"chart_0.png\", mult=12, stock=\"ETH-USD\", scalar=1000): # interval times 5min\n",
        "\n",
        "    df = data.copy()\n",
        "\n",
        "    # define the upper limit, lower limit, interval of Y axis and colors\n",
        "    y_UL = int(max(df[\"buy&hold\"].max(), df[\"account_value\"].max())//scalar*scalar+scalar)\n",
        "    print(y_UL)\n",
        "    y_LL = int(min(df[\"account_value\"].min(), df[\"buy&hold\"].min())//scalar*scalar)\n",
        "    print(y_LL)\n",
        "    y_interval = scalar\n",
        "    mycolors = ['#f59e3b','#99f8ff']\n",
        "\n",
        "    # draw plot and annotate\n",
        "    fig, ax = plt.subplots(1,1, figsize=(16,9))\n",
        "\n",
        "    columns = [\"buy&hold\", \"account_value\"]\n",
        "    for i, column in enumerate(columns):\n",
        "        plt.plot(df.date.values, df[column].values,\n",
        "                 lw=3, color=mycolors[i], label=str(column))\n",
        "\n",
        "    # draw horizontal lines\n",
        "    for y in range(y_LL, y_UL, y_interval):\n",
        "        plt.hlines(y, xmin=0, xmax=ticks,\n",
        "                   colors='#fff99f', alpha=0.8, linestyles=\"--\", lw=0.7)\n",
        "\n",
        "    # draw vertical lines (buys and sells)\n",
        "    buy_times = data.loc[data[\"actions\"] > 0][\"date\"]\n",
        "    sell_times = data.loc[data[\"actions\"] < 0][\"date\"]\n",
        "    for xc in buy_times:\n",
        "        plt.axvline(x=xc, color=\"#2bad4a\")\n",
        "\n",
        "    for xc in sell_times:\n",
        "        plt.axvline(x=xc, color=\"#f74343\")\n",
        "\n",
        "    # decorations\n",
        "    plt.tick_params(axis=\"both\", which=\"both\", bottom=False, top=False,\n",
        "                    labelbottom=True, left=False, right=False, labelleft=True)\n",
        "\n",
        "    # lighten borders\n",
        "    plt.gca().spines[\"bottom\"].set_edgecolor('#fff99f')\n",
        "    plt.gca().spines[\"left\"].set_edgecolor('#fff99f')\n",
        "\n",
        "    # title\n",
        "    x_axis = df.date.values[::mult]\n",
        "    x_hour = [w[-8:-3] for w in x_axis]\n",
        "    day = x_axis[0][:-9]\n",
        "    plt.title(f\"{stock} : {day}\", fontsize=24, color='#fff99f')\n",
        "\n",
        "    # tick annotations\n",
        "    plt.yticks(range(y_LL, y_UL, y_interval),\n",
        "               [str(y) for y in range(y_LL, y_UL, y_interval)], fontsize=18, color='#fff99f')\n",
        "    plt.xticks(range(0, ticks, mult), x_hour, rotation=90,\n",
        "               horizontalalignment='left', fontsize=18, color='#fff99f')\n",
        "    plt.ylim(y_LL, y_UL)\n",
        "    plt.xlim(-1, ticks+1)\n",
        "\n",
        "    # legend\n",
        "    leg = plt.legend(fontsize=16, facecolor='#001133')\n",
        "    for text in leg.get_texts():\n",
        "        text.set_color('#fff99f')\n",
        "\n",
        "    # background\n",
        "    fig.patch.set_facecolor('#001133')\n",
        "    ax.set_facecolor('#001133')\n",
        "\n",
        "    plt.savefig(name, facecolor=fig.get_facecolor(), edgecolor='none')\n",
        "    plt.show()"
      ],
      "metadata": {
        "id": "zFPSptNcNfUG"
      },
      "execution_count": null,
      "outputs": []
    },
    {
      "cell_type": "markdown",
      "source": [
        "#data download and preprocess"
      ],
      "metadata": {
        "id": "9NqF9QKODOsz"
      }
    },
    {
      "cell_type": "code",
      "source": [
        "data_df = fetch_data(period = \"60d\", interval = '5m', tic = \"ETH-USD\")"
      ],
      "metadata": {
        "colab": {
          "base_uri": "https://localhost:8080/"
        },
        "id": "OI6xqCZaDOF4",
        "outputId": "8dd508e7-88b8-4d7a-9fda-58d172fac41f"
      },
      "execution_count": null,
      "outputs": [
        {
          "output_type": "stream",
          "name": "stdout",
          "text": [
            "\r[*********************100%***********************]  1 of 1 completed\n",
            "shape (17036, 7)\n"
          ]
        }
      ]
    },
    {
      "cell_type": "code",
      "source": [
        "data_df.head()"
      ],
      "metadata": {
        "colab": {
          "base_uri": "https://localhost:8080/",
          "height": 206
        },
        "id": "3a0LWh1FDX30",
        "outputId": "711c989d-5996-41c0-e9ef-500e4c098a0d"
      },
      "execution_count": null,
      "outputs": [
        {
          "output_type": "execute_result",
          "data": {
            "text/html": [
              "<div>\n",
              "<style scoped>\n",
              "    .dataframe tbody tr th:only-of-type {\n",
              "        vertical-align: middle;\n",
              "    }\n",
              "\n",
              "    .dataframe tbody tr th {\n",
              "        vertical-align: top;\n",
              "    }\n",
              "\n",
              "    .dataframe thead th {\n",
              "        text-align: right;\n",
              "    }\n",
              "</style>\n",
              "<table border=\"1\" class=\"dataframe\">\n",
              "  <thead>\n",
              "    <tr style=\"text-align: right;\">\n",
              "      <th></th>\n",
              "      <th>date</th>\n",
              "      <th>open</th>\n",
              "      <th>high</th>\n",
              "      <th>low</th>\n",
              "      <th>close</th>\n",
              "      <th>volume</th>\n",
              "      <th>tic</th>\n",
              "    </tr>\n",
              "  </thead>\n",
              "  <tbody>\n",
              "    <tr>\n",
              "      <th>0</th>\n",
              "      <td>2021-10-18 00:00:00</td>\n",
              "      <td>3847.729980</td>\n",
              "      <td>3858.295410</td>\n",
              "      <td>3847.729980</td>\n",
              "      <td>3854.672852</td>\n",
              "      <td>0</td>\n",
              "      <td>ETH-USD</td>\n",
              "    </tr>\n",
              "    <tr>\n",
              "      <th>1</th>\n",
              "      <td>2021-10-18 00:05:00</td>\n",
              "      <td>3852.407471</td>\n",
              "      <td>3852.647705</td>\n",
              "      <td>3849.469482</td>\n",
              "      <td>3852.647705</td>\n",
              "      <td>0</td>\n",
              "      <td>ETH-USD</td>\n",
              "    </tr>\n",
              "    <tr>\n",
              "      <th>2</th>\n",
              "      <td>2021-10-18 00:10:00</td>\n",
              "      <td>3850.506592</td>\n",
              "      <td>3850.506592</td>\n",
              "      <td>3847.629395</td>\n",
              "      <td>3847.629395</td>\n",
              "      <td>0</td>\n",
              "      <td>ETH-USD</td>\n",
              "    </tr>\n",
              "    <tr>\n",
              "      <th>3</th>\n",
              "      <td>2021-10-18 00:15:00</td>\n",
              "      <td>3849.553955</td>\n",
              "      <td>3852.768311</td>\n",
              "      <td>3847.973877</td>\n",
              "      <td>3847.973877</td>\n",
              "      <td>460800</td>\n",
              "      <td>ETH-USD</td>\n",
              "    </tr>\n",
              "    <tr>\n",
              "      <th>4</th>\n",
              "      <td>2021-10-18 00:20:00</td>\n",
              "      <td>3848.338867</td>\n",
              "      <td>3848.840332</td>\n",
              "      <td>3846.906250</td>\n",
              "      <td>3846.906250</td>\n",
              "      <td>0</td>\n",
              "      <td>ETH-USD</td>\n",
              "    </tr>\n",
              "  </tbody>\n",
              "</table>\n",
              "</div>"
            ],
            "text/plain": [
              "                  date         open         high  ...        close  volume      tic\n",
              "0  2021-10-18 00:00:00  3847.729980  3858.295410  ...  3854.672852       0  ETH-USD\n",
              "1  2021-10-18 00:05:00  3852.407471  3852.647705  ...  3852.647705       0  ETH-USD\n",
              "2  2021-10-18 00:10:00  3850.506592  3850.506592  ...  3847.629395       0  ETH-USD\n",
              "3  2021-10-18 00:15:00  3849.553955  3852.768311  ...  3847.973877  460800  ETH-USD\n",
              "4  2021-10-18 00:20:00  3848.338867  3848.840332  ...  3846.906250       0  ETH-USD\n",
              "\n",
              "[5 rows x 7 columns]"
            ]
          },
          "metadata": {},
          "execution_count": 10
        }
      ]
    },
    {
      "cell_type": "code",
      "source": [
        "# use either this\n",
        "tech_indicator_list = [\"macd\", \"boll\", \"cr\", \"kdjk\", \"cci\", \"dma\", \"trix\", \"vr\"]\n",
        "df = add_technical_indicators(data_df, tech_indicator_list)\n",
        "state_features = tech_indicator_list"
      ],
      "metadata": {
        "id": "WJIwH_KZDbKs"
      },
      "execution_count": null,
      "outputs": []
    },
    {
      "cell_type": "code",
      "source": [
        "# or this\n",
        "lookback_hours = 2\n",
        "changes_size = lookback_hours*6\n",
        "df = add_changes(data_df, changes_size)\n",
        "state_features = [f\"change_{i+1}\" for i in range(changes_size)]"
      ],
      "metadata": {
        "id": "iFL7bndXDerp"
      },
      "execution_count": null,
      "outputs": []
    },
    {
      "cell_type": "code",
      "source": [
        "# close and features only needed\n",
        "df = df.drop([\n",
        "            \"open\",\n",
        "            \"high\",\n",
        "            \"low\",\n",
        "            \"volume\",\n",
        "            \"tic\"\n",
        "        ], axis=1)"
      ],
      "metadata": {
        "id": "Yb4t4DroER-a"
      },
      "execution_count": null,
      "outputs": []
    },
    {
      "cell_type": "code",
      "source": [
        "df.head()"
      ],
      "metadata": {
        "colab": {
          "base_uri": "https://localhost:8080/",
          "height": 380
        },
        "id": "T0zDy2-4EN4n",
        "outputId": "a50dca7c-088e-476b-e9b3-4bab271d4251"
      },
      "execution_count": null,
      "outputs": [
        {
          "output_type": "execute_result",
          "data": {
            "text/html": [
              "<div>\n",
              "<style scoped>\n",
              "    .dataframe tbody tr th:only-of-type {\n",
              "        vertical-align: middle;\n",
              "    }\n",
              "\n",
              "    .dataframe tbody tr th {\n",
              "        vertical-align: top;\n",
              "    }\n",
              "\n",
              "    .dataframe thead th {\n",
              "        text-align: right;\n",
              "    }\n",
              "</style>\n",
              "<table border=\"1\" class=\"dataframe\">\n",
              "  <thead>\n",
              "    <tr style=\"text-align: right;\">\n",
              "      <th></th>\n",
              "      <th>date</th>\n",
              "      <th>close</th>\n",
              "      <th>change_1</th>\n",
              "      <th>change_2</th>\n",
              "      <th>change_3</th>\n",
              "      <th>change_4</th>\n",
              "      <th>change_5</th>\n",
              "      <th>change_6</th>\n",
              "      <th>change_7</th>\n",
              "      <th>change_8</th>\n",
              "      <th>change_9</th>\n",
              "      <th>change_10</th>\n",
              "      <th>change_11</th>\n",
              "      <th>change_12</th>\n",
              "    </tr>\n",
              "  </thead>\n",
              "  <tbody>\n",
              "    <tr>\n",
              "      <th>0</th>\n",
              "      <td>2021-10-21 00:00:00</td>\n",
              "      <td>4154.615723</td>\n",
              "      <td>NaN</td>\n",
              "      <td>NaN</td>\n",
              "      <td>NaN</td>\n",
              "      <td>NaN</td>\n",
              "      <td>NaN</td>\n",
              "      <td>NaN</td>\n",
              "      <td>NaN</td>\n",
              "      <td>NaN</td>\n",
              "      <td>NaN</td>\n",
              "      <td>NaN</td>\n",
              "      <td>NaN</td>\n",
              "      <td>NaN</td>\n",
              "    </tr>\n",
              "    <tr>\n",
              "      <th>1</th>\n",
              "      <td>2021-10-21 00:05:00</td>\n",
              "      <td>4146.311035</td>\n",
              "      <td>0.998001</td>\n",
              "      <td>NaN</td>\n",
              "      <td>NaN</td>\n",
              "      <td>NaN</td>\n",
              "      <td>NaN</td>\n",
              "      <td>NaN</td>\n",
              "      <td>NaN</td>\n",
              "      <td>NaN</td>\n",
              "      <td>NaN</td>\n",
              "      <td>NaN</td>\n",
              "      <td>NaN</td>\n",
              "      <td>NaN</td>\n",
              "    </tr>\n",
              "    <tr>\n",
              "      <th>2</th>\n",
              "      <td>2021-10-21 00:10:00</td>\n",
              "      <td>4144.290039</td>\n",
              "      <td>0.999513</td>\n",
              "      <td>0.997515</td>\n",
              "      <td>NaN</td>\n",
              "      <td>NaN</td>\n",
              "      <td>NaN</td>\n",
              "      <td>NaN</td>\n",
              "      <td>NaN</td>\n",
              "      <td>NaN</td>\n",
              "      <td>NaN</td>\n",
              "      <td>NaN</td>\n",
              "      <td>NaN</td>\n",
              "      <td>NaN</td>\n",
              "    </tr>\n",
              "    <tr>\n",
              "      <th>3</th>\n",
              "      <td>2021-10-21 00:15:00</td>\n",
              "      <td>4156.082031</td>\n",
              "      <td>1.002845</td>\n",
              "      <td>1.002357</td>\n",
              "      <td>1.000353</td>\n",
              "      <td>NaN</td>\n",
              "      <td>NaN</td>\n",
              "      <td>NaN</td>\n",
              "      <td>NaN</td>\n",
              "      <td>NaN</td>\n",
              "      <td>NaN</td>\n",
              "      <td>NaN</td>\n",
              "      <td>NaN</td>\n",
              "      <td>NaN</td>\n",
              "    </tr>\n",
              "    <tr>\n",
              "      <th>4</th>\n",
              "      <td>2021-10-21 00:20:00</td>\n",
              "      <td>4187.894531</td>\n",
              "      <td>1.007654</td>\n",
              "      <td>1.010522</td>\n",
              "      <td>1.010029</td>\n",
              "      <td>1.00801</td>\n",
              "      <td>NaN</td>\n",
              "      <td>NaN</td>\n",
              "      <td>NaN</td>\n",
              "      <td>NaN</td>\n",
              "      <td>NaN</td>\n",
              "      <td>NaN</td>\n",
              "      <td>NaN</td>\n",
              "      <td>NaN</td>\n",
              "    </tr>\n",
              "  </tbody>\n",
              "</table>\n",
              "</div>"
            ],
            "text/plain": [
              "                  date        close  change_1  ...  change_10  change_11  change_12\n",
              "0  2021-10-21 00:00:00  4154.615723       NaN  ...        NaN        NaN        NaN\n",
              "1  2021-10-21 00:05:00  4146.311035  0.998001  ...        NaN        NaN        NaN\n",
              "2  2021-10-21 00:10:00  4144.290039  0.999513  ...        NaN        NaN        NaN\n",
              "3  2021-10-21 00:15:00  4156.082031  1.002845  ...        NaN        NaN        NaN\n",
              "4  2021-10-21 00:20:00  4187.894531  1.007654  ...        NaN        NaN        NaN\n",
              "\n",
              "[5 rows x 14 columns]"
            ]
          },
          "metadata": {},
          "execution_count": 11
        }
      ]
    },
    {
      "cell_type": "code",
      "source": [
        "start_day = df['date'].iloc[0]\n",
        "start_day = datetime.strptime(start_day, \"%Y-%m-%d %H:%M:%S\")\n",
        "\n",
        "day = timedelta(1)\n",
        "\n",
        "start_init = start_day\n",
        "# init [1] full first day\n",
        "start_train = start_day + 1*day\n",
        "# train [2,58]\n",
        "start_trade = start_day + 58*day\n",
        "# trade [59] (60 is cut to current hour)\n",
        "end_trade = start_trade + day\n",
        "\n",
        "start_init = start_init.strftime(\"%Y-%m-%d %H:%M:%S\")\n",
        "start_train = start_train.strftime(\"%Y-%m-%d %H:%M:%S\")\n",
        "start_trade = start_trade.strftime(\"%Y-%m-%d %H:%M:%S\")\n",
        "end_trade = end_trade.strftime(\"%Y-%m-%d %H:%M:%S\")\n",
        "print(start_init)\n",
        "print(start_train)\n",
        "print(start_trade)\n",
        "print(end_trade)"
      ],
      "metadata": {
        "colab": {
          "base_uri": "https://localhost:8080/"
        },
        "id": "ndUd_iDtEO41",
        "outputId": "7c4b16cd-1f0a-4f86-c3ba-0a576f87ea43"
      },
      "execution_count": null,
      "outputs": [
        {
          "output_type": "stream",
          "name": "stdout",
          "text": [
            "2021-10-21 00:00:00\n",
            "2021-10-22 00:00:00\n",
            "2021-12-18 00:00:00\n",
            "2021-12-19 00:00:00\n"
          ]
        }
      ]
    },
    {
      "cell_type": "code",
      "source": [
        "init = df.loc[(df['date'] >= start_init) & (df['date'] <= start_train)].reset_index().drop([\"index\"], axis=1)\n",
        "train = df.loc[(df['date'] >= start_train) & (df['date'] <= start_trade)].reset_index().drop([\"index\"], axis=1)\n",
        "trade = df.loc[(df['date'] >= start_trade) & (df['date'] <= end_trade)].reset_index().drop([\"index\"], axis=1)"
      ],
      "metadata": {
        "id": "Zm_haZe1Es2h"
      },
      "execution_count": null,
      "outputs": []
    },
    {
      "cell_type": "code",
      "source": [
        "train.head()"
      ],
      "metadata": {
        "colab": {
          "base_uri": "https://localhost:8080/",
          "height": 380
        },
        "id": "zNKP72HaFDGE",
        "outputId": "609a95c3-15b6-4191-ee62-8ca2bd493ea3"
      },
      "execution_count": null,
      "outputs": [
        {
          "output_type": "execute_result",
          "data": {
            "text/html": [
              "<div>\n",
              "<style scoped>\n",
              "    .dataframe tbody tr th:only-of-type {\n",
              "        vertical-align: middle;\n",
              "    }\n",
              "\n",
              "    .dataframe tbody tr th {\n",
              "        vertical-align: top;\n",
              "    }\n",
              "\n",
              "    .dataframe thead th {\n",
              "        text-align: right;\n",
              "    }\n",
              "</style>\n",
              "<table border=\"1\" class=\"dataframe\">\n",
              "  <thead>\n",
              "    <tr style=\"text-align: right;\">\n",
              "      <th></th>\n",
              "      <th>date</th>\n",
              "      <th>close</th>\n",
              "      <th>change_1</th>\n",
              "      <th>change_2</th>\n",
              "      <th>change_3</th>\n",
              "      <th>change_4</th>\n",
              "      <th>change_5</th>\n",
              "      <th>change_6</th>\n",
              "      <th>change_7</th>\n",
              "      <th>change_8</th>\n",
              "      <th>change_9</th>\n",
              "      <th>change_10</th>\n",
              "      <th>change_11</th>\n",
              "      <th>change_12</th>\n",
              "    </tr>\n",
              "  </thead>\n",
              "  <tbody>\n",
              "    <tr>\n",
              "      <th>0</th>\n",
              "      <td>2021-10-22 00:00:00</td>\n",
              "      <td>4084.179688</td>\n",
              "      <td>1.003624</td>\n",
              "      <td>1.003918</td>\n",
              "      <td>1.003096</td>\n",
              "      <td>1.002749</td>\n",
              "      <td>1.004391</td>\n",
              "      <td>1.004577</td>\n",
              "      <td>1.005763</td>\n",
              "      <td>1.002015</td>\n",
              "      <td>0.999164</td>\n",
              "      <td>1.003224</td>\n",
              "      <td>1.003705</td>\n",
              "      <td>1.003009</td>\n",
              "    </tr>\n",
              "    <tr>\n",
              "      <th>1</th>\n",
              "      <td>2021-10-22 00:05:00</td>\n",
              "      <td>4098.968750</td>\n",
              "      <td>1.003621</td>\n",
              "      <td>1.007258</td>\n",
              "      <td>1.007553</td>\n",
              "      <td>1.006728</td>\n",
              "      <td>1.006380</td>\n",
              "      <td>1.008028</td>\n",
              "      <td>1.008215</td>\n",
              "      <td>1.009405</td>\n",
              "      <td>1.005643</td>\n",
              "      <td>1.002782</td>\n",
              "      <td>1.006857</td>\n",
              "      <td>1.007340</td>\n",
              "    </tr>\n",
              "    <tr>\n",
              "      <th>2</th>\n",
              "      <td>2021-10-22 00:10:00</td>\n",
              "      <td>4070.324463</td>\n",
              "      <td>0.993012</td>\n",
              "      <td>0.996608</td>\n",
              "      <td>1.000220</td>\n",
              "      <td>1.000512</td>\n",
              "      <td>0.999693</td>\n",
              "      <td>0.999348</td>\n",
              "      <td>1.000984</td>\n",
              "      <td>1.001169</td>\n",
              "      <td>1.002351</td>\n",
              "      <td>0.998615</td>\n",
              "      <td>0.995775</td>\n",
              "      <td>0.999821</td>\n",
              "    </tr>\n",
              "    <tr>\n",
              "      <th>3</th>\n",
              "      <td>2021-10-22 00:15:00</td>\n",
              "      <td>4069.398682</td>\n",
              "      <td>0.999773</td>\n",
              "      <td>0.992786</td>\n",
              "      <td>0.996381</td>\n",
              "      <td>0.999992</td>\n",
              "      <td>1.000285</td>\n",
              "      <td>0.999466</td>\n",
              "      <td>0.999120</td>\n",
              "      <td>1.000756</td>\n",
              "      <td>1.000941</td>\n",
              "      <td>1.002123</td>\n",
              "      <td>0.998388</td>\n",
              "      <td>0.995548</td>\n",
              "    </tr>\n",
              "    <tr>\n",
              "      <th>4</th>\n",
              "      <td>2021-10-22 00:20:00</td>\n",
              "      <td>4086.309082</td>\n",
              "      <td>1.004156</td>\n",
              "      <td>1.003927</td>\n",
              "      <td>0.996911</td>\n",
              "      <td>1.000521</td>\n",
              "      <td>1.004148</td>\n",
              "      <td>1.004441</td>\n",
              "      <td>1.003619</td>\n",
              "      <td>1.003272</td>\n",
              "      <td>1.004914</td>\n",
              "      <td>1.005101</td>\n",
              "      <td>1.006287</td>\n",
              "      <td>1.002537</td>\n",
              "    </tr>\n",
              "  </tbody>\n",
              "</table>\n",
              "</div>"
            ],
            "text/plain": [
              "                  date        close  change_1  ...  change_10  change_11  change_12\n",
              "0  2021-10-22 00:00:00  4084.179688  1.003624  ...   1.003224   1.003705   1.003009\n",
              "1  2021-10-22 00:05:00  4098.968750  1.003621  ...   1.002782   1.006857   1.007340\n",
              "2  2021-10-22 00:10:00  4070.324463  0.993012  ...   0.998615   0.995775   0.999821\n",
              "3  2021-10-22 00:15:00  4069.398682  0.999773  ...   1.002123   0.998388   0.995548\n",
              "4  2021-10-22 00:20:00  4086.309082  1.004156  ...   1.005101   1.006287   1.002537\n",
              "\n",
              "[5 rows x 14 columns]"
            ]
          },
          "metadata": {},
          "execution_count": 14
        }
      ]
    },
    {
      "cell_type": "markdown",
      "source": [
        "#env2\n"
      ],
      "metadata": {
        "id": "ZLZe-bWCJaWN"
      }
    },
    {
      "cell_type": "code",
      "source": [
        "class StockTradingEnv(gym.Env):\n",
        "    \"\"\"A stock trading environment for OpenAI gym\"\"\"\n",
        "\n",
        "    def __init__(self,\n",
        "                df,\n",
        "                initial_amount,\n",
        "                trade_cost_pct,\n",
        "                state_features,\n",
        "                discrete,\n",
        "                own_reward = False,\n",
        "                moment = 0,\n",
        "                initial = True,\n",
        "                previous_state = [],\n",
        "                model_name = '',\n",
        "                make_plots = True,\n",
        "                iteration = 0):\n",
        "        self.moment = moment\n",
        "        self.df = df\n",
        "        self.initial_amount = initial_amount\n",
        "        self.trade_cost_pct = trade_cost_pct\n",
        "        self.state_features = state_features\n",
        "        self.own_reward = own_reward\n",
        "        self.discrete = discrete\n",
        "        if (self.discrete):\n",
        "            self.action_space = gym.spaces.Discrete(3)\n",
        "        else:\n",
        "            self.action_space = gym.spaces.Box(low = -1, high = 1,shape = (1,))\n",
        "        self.observation_space = gym.spaces.Box(low=-np.inf, high=np.inf, shape = (len(state_features)+3,))\n",
        "        self.data = self.df.loc[self.moment,:]\n",
        "        self.terminal = False\n",
        "        self.make_plots = make_plots\n",
        "        self.initial = initial\n",
        "        self.previous_state = previous_state\n",
        "        self.model_name = model_name\n",
        "        self.iteration = iteration\n",
        "\n",
        "        self.log = ''\n",
        "        # initalize state\n",
        "        self.state = self._initiate_state()\n",
        "\n",
        "        # initialize reward\n",
        "        self.reward = 0\n",
        "        self.cost = 0\n",
        "        self.trades = 0\n",
        "        self.episode = 0\n",
        "\n",
        "        # memorize balance change\n",
        "        self.asset_memory = [self.initial_amount]\n",
        "        self.rewards_memory = []\n",
        "        self.actions_memory = []\n",
        "        self.date_memory=[self._get_date()]\n",
        "        # self.reset()\n",
        "        self._seed()\n",
        "\n",
        "\n",
        "    def _sell(self, actions):\n",
        "        if self.state[2] > 0: # sell only if owned shares > 0\n",
        "            sell_num_shares = self.state[2]*abs(actions)\n",
        "            cost = sell_num_shares * self.state[1] * self.trade_cost_pct\n",
        "            self.state[2] -= sell_num_shares\n",
        "            self.state[0] += (sell_num_shares * self.state[1] - cost)\n",
        "\n",
        "            self.cost += cost\n",
        "            self.trades += 1\n",
        "        else:\n",
        "            sell_num_shares = 0\n",
        "\n",
        "        return sell_num_shares\n",
        "\n",
        "\n",
        "    def _buy(self, actions):\n",
        "        if self.state[0] > 0: # buy only if account value > 0\n",
        "            buy_num_shares = (self.state[0] / self.state[1])*actions\n",
        "            cost = buy_num_shares * self.state[1] * self.trade_cost_pct\n",
        "            self.state[2] += buy_num_shares\n",
        "            self.state[0] -= (buy_num_shares * self.state[1] + cost)\n",
        "\n",
        "            self.cost += cost\n",
        "            self.trades += 1\n",
        "        else:\n",
        "            buy_num_shares = 0\n",
        "\n",
        "        return buy_num_shares\n",
        "\n",
        "\n",
        "    def step(self, actions):\n",
        "        self.terminal = self.moment >= len(self.df.index.unique())-1\n",
        "        if self.terminal:\n",
        "            end_total_asset = self.state[0] + self.state[1] * self.state[2] # last timestep (balance + price of share * num of shares)\n",
        "            print(f\"episode: {self.episode}, iteration: {self.iteration}\")\n",
        "            print(f\"begin_total_asset: {self.asset_memory[0]}\")\n",
        "            print(f\"end_total_asset: {end_total_asset}\")\n",
        "            print(f\"total_cost: {self.cost}\")\n",
        "            print(f\"total_trades: {self.trades}\")\n",
        "            print(\"===\")\n",
        "\n",
        "            if (self.model_name!=''): # results of training for analyzing\n",
        "                plt.plot(self.asset_memory,'r')\n",
        "                plt.savefig(f'results/asset_{self.model_name}_{self.episode}.png')\n",
        "                plt.close()\n",
        "\n",
        "                df_total_value = pd.DataFrame(self.asset_memory)\n",
        "                df_total_value.columns = ['account_value']\n",
        "                df_total_value['date'] = self.date_memory\n",
        "                df_rewards = pd.DataFrame(self.rewards_memory)\n",
        "                df_rewards.columns = ['account_rewards']\n",
        "                df_rewards['date'] = self.date_memory[:-1]\n",
        "                df_actions = self.save_action_memory()\n",
        "                df_actions.to_csv('results/2actions_{}_{}.csv'.format(self.model_name, self.iteration))\n",
        "                df_total_value.to_csv('results/2account_value_{}_{}.csv'.format(self.model_name, self.iteration))\n",
        "                df_rewards.to_csv('results/2account_rewards_{}_{}.csv'.format(self.model_name, self.iteration))\n",
        "                plt.plot(self.asset_memory,'r')\n",
        "                plt.savefig('results/2account_value_{}_{}.png'.format(self.model_name, self.iteration))\n",
        "                plt.close()\n",
        "\n",
        "            return self.state, self.reward, self.terminal, {}\n",
        "\n",
        "        else:\n",
        "            begin_owning = self.state[2]\n",
        "            begin_price = self.state[1]\n",
        "            begin_total_asset = self.state[0] + self.state[1] * self.state[2]\n",
        "\n",
        "            if self.discrete:\n",
        "                action = actions-1 # discrete space is 0,1,2, make it -1,0,1\n",
        "            else:\n",
        "                action = actions[0] # reduce shape\n",
        "\n",
        "            action_val = 0 # final decision\n",
        "            if (action < 0): # sell\n",
        "                action_val = -self._sell(action)\n",
        "\n",
        "            elif (action > 0): # buy\n",
        "                action_val = self._buy(action)\n",
        "\n",
        "            self.actions_memory.append(action_val)\n",
        "            self.moment += 1\n",
        "            self.data = self.df.loc[self.moment,:]\n",
        "            self.state = self._update_state()\n",
        "\n",
        "            end_total_asset = self.state[0] + self.state[1] * self.state[2] # balance after state transition\n",
        "            self.asset_memory.append(end_total_asset)\n",
        "            self.date_memory.append(self._get_date())\n",
        "            self.reward = end_total_asset - begin_total_asset\n",
        "\n",
        "            if self.own_reward:\n",
        "                # check if could take action better in future\n",
        "                tmp_df = self.df.loc[self.moment:self.moment+12*12,:] # 12 hours span\n",
        "                diff_high = tmp_df[\"close\"].max() - begin_price\n",
        "                diff_low = begin_price-tmp_df[\"close\"].min()\n",
        "                diff_mean = tmp_df[\"close\"].mean() - begin_price\n",
        "                tax = action * begin_price * self.trade_cost_pct # trade cost\n",
        "\n",
        "                if (action == 0 and begin_owning == 0): # not buy\n",
        "                    self.reward -= diff_mean\n",
        "                if (action == 0 and begin_owning > 0): # not sell\n",
        "                    self.reward += diff_mean\n",
        "                if (action < 0): # sell\n",
        "                    self.reward -= (diff_mean + 10 * tax)\n",
        "                if (action > 0): # buy\n",
        "                    self.reward += (diff_mean - 10 * tax)\n",
        "\n",
        "            self.rewards_memory.append(self.reward)\n",
        "            self.reward = self.reward * 1e-4 # scaling factor good for training\n",
        "\n",
        "        return self.state, self.reward, self.terminal, {}\n",
        "\n",
        "\n",
        "    def reset(self):\n",
        "        self.state = self._initiate_state()\n",
        "        if self.initial:\n",
        "            self.asset_memory = [self.initial_amount]\n",
        "        else:\n",
        "            previous_total_asset = self.previous_state[0]+ \\\n",
        "            sum(np.array(self.state[1])*np.array(self.previous_state[2]))\n",
        "            self.asset_memory = [previous_total_asset]\n",
        "\n",
        "        self.moment = 0\n",
        "        self.data = self.df.loc[self.moment,:]\n",
        "        self.cost = 0\n",
        "        self.trades = 0\n",
        "        self.terminal = False\n",
        "        self.iteration += 1\n",
        "        self.rewards_memory = []\n",
        "        self.actions_memory = []\n",
        "        self.date_memory = [self._get_date()]\n",
        "        self.episode += 1\n",
        "\n",
        "        return self.state\n",
        "\n",
        "\n",
        "    def render(self, mode='human', close=False):\n",
        "        return self.state\n",
        "\n",
        "\n",
        "    def _initiate_state(self):\n",
        "        if self.initial:\n",
        "            state = [self.initial_amount] + \\\n",
        "                    [self.data.close] + \\\n",
        "                    [0] + \\\n",
        "                    sum([[self.data[feature]] for feature in self.state_features ], [])\n",
        "        else:\n",
        "            state = [self.previous_state[0]] + \\\n",
        "                    [self.data.close] + \\\n",
        "                    self.previous_state[2]  + \\\n",
        "                    sum([[self.data[feature]] for feature in self.state_features ], [])\n",
        "        return np.array(state, dtype=np.float)\n",
        "\n",
        "\n",
        "    def _update_state(self):\n",
        "        state = [self.state[0]] + \\\n",
        "                [self.data.close] + \\\n",
        "                [self.state[2]] + \\\n",
        "                sum([[self.data[feature]] for feature in self.state_features ], [])\n",
        "        return np.array(state, dtype=np.float)\n",
        "\n",
        "\n",
        "    def _get_date(self):\n",
        "        return self.data.date\n",
        "\n",
        "\n",
        "    def save_asset_memory(self):\n",
        "        date_list = self.date_memory\n",
        "        asset_list = self.asset_memory\n",
        "        df_account_value = pd.DataFrame({'date':date_list,'account_value':asset_list})\n",
        "        return df_account_value\n",
        "\n",
        "\n",
        "    def save_action_memory(self):\n",
        "        date_list = self.date_memory[:-1]\n",
        "        action_list = self.actions_memory\n",
        "        df_actions = pd.DataFrame({'date':date_list,'actions':action_list})\n",
        "        return df_actions\n",
        "\n",
        "\n",
        "    def _seed(self, seed=None):\n",
        "        self.np_random, seed = gym.utils.seeding.np_random(seed)\n",
        "        return [seed]\n",
        "\n",
        "\n",
        "    def get_sb_env(self):\n",
        "        e = DummyVecEnv([lambda: self])\n",
        "        obs = e.reset()\n",
        "        return e, obs"
      ],
      "metadata": {
        "id": "tw2jzNX_Jcmt"
      },
      "execution_count": null,
      "outputs": []
    },
    {
      "cell_type": "code",
      "source": [
        "from google.colab import drive\n",
        "drive.mount('/content/drive')"
      ],
      "metadata": {
        "id": "kgm3-lfBjl0Q"
      },
      "execution_count": null,
      "outputs": []
    },
    {
      "cell_type": "markdown",
      "source": [
        "#training\n"
      ],
      "metadata": {
        "id": "-dXy8uHOGqon"
      }
    },
    {
      "cell_type": "code",
      "source": [
        "state_space = len(state_features)+3\n",
        "env_kwargs = {\n",
        "    \"initial_amount\": 10000,\n",
        "    \"trade_cost_pct\": 0.001,\n",
        "    \"state_features\": state_features,\n",
        "    \"discrete\": True,\n",
        "    \"model_name\":'a', # for analyze, need /results dir\n",
        "}\n",
        "\n",
        "e_train_gym = StockTradingEnv(df = train, **env_kwargs)\n",
        "env_train, _ = e_train_gym.get_sb_env()\n",
        "agent = DRLAgent(env = env_train)"
      ],
      "metadata": {
        "id": "GD1nuwyqGp4N"
      },
      "execution_count": null,
      "outputs": []
    },
    {
      "cell_type": "code",
      "source": [
        "# optional\n",
        "import os\n",
        "if not os.path.exists(\"./results\"):\n",
        "    os.makedirs(\"./results\")"
      ],
      "metadata": {
        "id": "aZLyPkXGf-8h"
      },
      "execution_count": null,
      "outputs": []
    },
    {
      "cell_type": "code",
      "source": [
        "model_ppo = agent.get_model(\"ppo\")\n",
        "trained_ppo = agent.train_model(model=model_ppo,\n",
        "                             tb_log_name='ppo',\n",
        "                             total_timesteps = 50000)"
      ],
      "metadata": {
        "id": "yyAYR_7qHAGY"
      },
      "execution_count": null,
      "outputs": []
    },
    {
      "cell_type": "markdown",
      "source": [
        "#trade"
      ],
      "metadata": {
        "id": "vps9aoU8Juh2"
      }
    },
    {
      "cell_type": "code",
      "source": [
        "e_trade_gym = StockTradingEnv(df = trade, **env_kwargs)\n",
        "\n",
        "df_account_value, df_actions = DRLAgent.DRL_prediction(\n",
        "    model=trained_ppo,\n",
        "    environment = e_trade_gym)"
      ],
      "metadata": {
        "id": "viQP9AjaIbko",
        "colab": {
          "base_uri": "https://localhost:8080/"
        },
        "outputId": "958ba79f-b57b-4e55-f480-cc948d486132"
      },
      "execution_count": null,
      "outputs": [
        {
          "output_type": "stream",
          "name": "stdout",
          "text": [
            "episode: 2, iteration: 2\n",
            "begin_total_asset: 10000\n",
            "end_total_asset: 10180.680104598801\n",
            "total_cost: 90.03891478983357\n",
            "total_trades: 9\n",
            "===\n",
            "hit end!\n"
          ]
        }
      ]
    },
    {
      "cell_type": "code",
      "source": [
        "# create data for chart\n",
        "temp_df = pd.merge(trade, df_actions, on=\"date\")\n",
        "temp_df = pd.merge(temp_df, df_account_value, on=\"date\")\n",
        "\n",
        "for i in range(0, len(temp_df)):\n",
        "    temp_df.loc[i, 'buy&hold'] = temp_df.loc[i, 'close']*(10000/temp_df.loc[0, 'close'])\n",
        "\n",
        "temp_df.drop(state_features+[\"close\"], axis=1)"
      ],
      "metadata": {
        "id": "MpKIbi4zK8BR",
        "colab": {
          "base_uri": "https://localhost:8080/",
          "height": 423
        },
        "outputId": "0483a896-08c6-4c64-d7ab-c434d0b2a0bc"
      },
      "execution_count": null,
      "outputs": [
        {
          "output_type": "execute_result",
          "data": {
            "text/html": [
              "<div>\n",
              "<style scoped>\n",
              "    .dataframe tbody tr th:only-of-type {\n",
              "        vertical-align: middle;\n",
              "    }\n",
              "\n",
              "    .dataframe tbody tr th {\n",
              "        vertical-align: top;\n",
              "    }\n",
              "\n",
              "    .dataframe thead th {\n",
              "        text-align: right;\n",
              "    }\n",
              "</style>\n",
              "<table border=\"1\" class=\"dataframe\">\n",
              "  <thead>\n",
              "    <tr style=\"text-align: right;\">\n",
              "      <th></th>\n",
              "      <th>date</th>\n",
              "      <th>actions</th>\n",
              "      <th>account_value</th>\n",
              "      <th>buy&amp;hold</th>\n",
              "    </tr>\n",
              "  </thead>\n",
              "  <tbody>\n",
              "    <tr>\n",
              "      <th>0</th>\n",
              "      <td>2021-12-18 00:00:00</td>\n",
              "      <td>0.000000</td>\n",
              "      <td>10000.000000</td>\n",
              "      <td>10000.000000</td>\n",
              "    </tr>\n",
              "    <tr>\n",
              "      <th>1</th>\n",
              "      <td>2021-12-18 00:05:00</td>\n",
              "      <td>2.590341</td>\n",
              "      <td>10000.000000</td>\n",
              "      <td>9969.269916</td>\n",
              "    </tr>\n",
              "    <tr>\n",
              "      <th>2</th>\n",
              "      <td>2021-12-18 00:10:00</td>\n",
              "      <td>0.000000</td>\n",
              "      <td>9958.353694</td>\n",
              "      <td>9937.720859</td>\n",
              "    </tr>\n",
              "    <tr>\n",
              "      <th>3</th>\n",
              "      <td>2021-12-18 00:15:00</td>\n",
              "      <td>0.000000</td>\n",
              "      <td>10002.109972</td>\n",
              "      <td>9981.342674</td>\n",
              "    </tr>\n",
              "    <tr>\n",
              "      <th>4</th>\n",
              "      <td>2021-12-18 00:20:00</td>\n",
              "      <td>0.000000</td>\n",
              "      <td>9970.656550</td>\n",
              "      <td>9949.985909</td>\n",
              "    </tr>\n",
              "    <tr>\n",
              "      <th>...</th>\n",
              "      <td>...</td>\n",
              "      <td>...</td>\n",
              "      <td>...</td>\n",
              "      <td>...</td>\n",
              "    </tr>\n",
              "    <tr>\n",
              "      <th>283</th>\n",
              "      <td>2021-12-18 23:35:00</td>\n",
              "      <td>0.000000</td>\n",
              "      <td>10196.530769</td>\n",
              "      <td>10248.768546</td>\n",
              "    </tr>\n",
              "    <tr>\n",
              "      <th>284</th>\n",
              "      <td>2021-12-18 23:40:00</td>\n",
              "      <td>0.000000</td>\n",
              "      <td>10195.653630</td>\n",
              "      <td>10247.887787</td>\n",
              "    </tr>\n",
              "    <tr>\n",
              "      <th>285</th>\n",
              "      <td>2021-12-18 23:45:00</td>\n",
              "      <td>0.000000</td>\n",
              "      <td>10200.458746</td>\n",
              "      <td>10252.712730</td>\n",
              "    </tr>\n",
              "    <tr>\n",
              "      <th>286</th>\n",
              "      <td>2021-12-18 23:50:00</td>\n",
              "      <td>0.000000</td>\n",
              "      <td>10195.172051</td>\n",
              "      <td>10247.404221</td>\n",
              "    </tr>\n",
              "    <tr>\n",
              "      <th>287</th>\n",
              "      <td>2021-12-18 23:55:00</td>\n",
              "      <td>0.000000</td>\n",
              "      <td>10172.986144</td>\n",
              "      <td>10225.126771</td>\n",
              "    </tr>\n",
              "  </tbody>\n",
              "</table>\n",
              "<p>288 rows × 4 columns</p>\n",
              "</div>"
            ],
            "text/plain": [
              "                    date   actions  account_value      buy&hold\n",
              "0    2021-12-18 00:00:00  0.000000   10000.000000  10000.000000\n",
              "1    2021-12-18 00:05:00  2.590341   10000.000000   9969.269916\n",
              "2    2021-12-18 00:10:00  0.000000    9958.353694   9937.720859\n",
              "3    2021-12-18 00:15:00  0.000000   10002.109972   9981.342674\n",
              "4    2021-12-18 00:20:00  0.000000    9970.656550   9949.985909\n",
              "..                   ...       ...            ...           ...\n",
              "283  2021-12-18 23:35:00  0.000000   10196.530769  10248.768546\n",
              "284  2021-12-18 23:40:00  0.000000   10195.653630  10247.887787\n",
              "285  2021-12-18 23:45:00  0.000000   10200.458746  10252.712730\n",
              "286  2021-12-18 23:50:00  0.000000   10195.172051  10247.404221\n",
              "287  2021-12-18 23:55:00  0.000000   10172.986144  10225.126771\n",
              "\n",
              "[288 rows x 4 columns]"
            ]
          },
          "metadata": {},
          "execution_count": 42
        }
      ]
    },
    {
      "cell_type": "code",
      "source": [
        "generate_trade_chart(temp_df, name=\"chart_1.png\", scalar=100)"
      ],
      "metadata": {
        "colab": {
          "base_uri": "https://localhost:8080/"
        },
        "id": "lBNPn6JbKQhQ",
        "outputId": "846ddb92-4e8e-452b-a1fa-5866f8548d25"
      },
      "execution_count": null,
      "outputs": [
        {
          "output_type": "stream",
          "name": "stdout",
          "text": [
            "10400\n",
            "9700\n"
          ]
        }
      ]
    },
    {
      "cell_type": "code",
      "source": [],
      "metadata": {
        "id": "s-uaSoTfJ-8S"
      },
      "execution_count": null,
      "outputs": []
    }
  ]
}